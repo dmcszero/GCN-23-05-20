{
 "cells": [
  {
   "cell_type": "code",
   "execution_count": 1,
   "metadata": {},
   "outputs": [],
   "source": [
    "import torch\n",
    "import torch.nn.functional as F\n",
    "import torch.nn as nn\n",
    "import torch_geometric.nn as pyg_nn\n",
    "from torch_geometric.datasets import Planetoid"
   ]
  },
  {
   "cell_type": "code",
   "execution_count": 2,
   "metadata": {},
   "outputs": [],
   "source": [
    "# 1.加载Citeseer数据集\n",
    "dataset = Planetoid(root='./data/Citeseer', name='Citeseer')"
   ]
  },
  {
   "cell_type": "code",
   "execution_count": 3,
   "metadata": {},
   "outputs": [],
   "source": [
    "# 2.定义GCNConv网络\n",
    "class GCN(nn.Module):\n",
    "    def __init__(self, num_node_features, num_classes):\n",
    "        super(GCN, self).__init__()\n",
    "        self.conv1 = pyg_nn.GCNConv(num_node_features, 16)\n",
    "        self.conv2 = pyg_nn.GCNConv(16, num_classes)\n",
    "        \n",
    "    def forward(self, data):\n",
    "        x, edge_index = data.x, data.edge_index\n",
    "        \n",
    "        x = self.conv1(x, edge_index)\n",
    "        x = F.relu(x)\n",
    "        x = F.dropout(x, training=self.training)\n",
    "        x = self.conv2(x, edge_index)\n",
    "        \n",
    "        return F.log_softmax(x, dim=1)"
   ]
  },
  {
   "cell_type": "code",
   "execution_count": 4,
   "metadata": {},
   "outputs": [],
   "source": [
    "device = torch.device('cuda' if torch.cuda.is_available() else 'cpu') # 设备\n",
    "epochs = 100 # 学习轮数\n",
    "lr = 0.003 # 学习率\n",
    "num_node_features = dataset.num_node_features # 每个节点的特征数\n",
    "num_classes = dataset.num_classes # 每个节点的类别数\n",
    "data = dataset[0].to(device) # Cora的一张图"
   ]
  },
  {
   "cell_type": "code",
   "execution_count": 5,
   "metadata": {},
   "outputs": [],
   "source": [
    "# 3.定义模型\n",
    "model = GCN(num_node_features, num_classes).to(device)\n",
    "optimizer = torch.optim.Adam(model.parameters(), lr=lr) # 优化器\n",
    "loss_function = nn.NLLLoss() # 损失函数"
   ]
  },
  {
   "cell_type": "code",
   "execution_count": 18,
   "metadata": {},
   "outputs": [],
   "source": [
    "a=data.train_mask\n",
    "b=data.val_mask\n",
    "c=data.test_mask"
   ]
  },
  {
   "cell_type": "code",
   "execution_count": 7,
   "metadata": {},
   "outputs": [
    {
     "name": "stdout",
     "output_type": "stream",
     "text": [
      "【EPOCH: 】1\n",
      "训练损失为：1.7991 训练精度为：0.2083\n",
      "【EPOCH: 】11\n",
      "训练损失为：1.1671 训练精度为：0.6417\n",
      "【EPOCH: 】21\n",
      "训练损失为：0.6814 训练精度为：0.9250\n",
      "【EPOCH: 】31\n",
      "训练损失为：0.3787 训练精度为：0.9750\n",
      "【EPOCH: 】41\n",
      "训练损失为：0.2541 训练精度为：0.9583\n",
      "【EPOCH: 】51\n",
      "训练损失为：0.1419 训练精度为：1.0000\n",
      "【EPOCH: 】61\n",
      "训练损失为：0.1389 训练精度为：0.9750\n",
      "【EPOCH: 】71\n",
      "训练损失为：0.1231 训练精度为：0.9833\n",
      "【EPOCH: 】81\n",
      "训练损失为：0.1062 训练精度为：0.9667\n",
      "【EPOCH: 】91\n",
      "训练损失为：0.0686 训练精度为：1.0000\n",
      "【Finished Training！】\n"
     ]
    }
   ],
   "source": [
    "# 训练模式\n",
    "model.train()\n",
    "\n",
    "for epoch in range(epochs):\n",
    "    optimizer.zero_grad()\n",
    "    pred = model(data)\n",
    "    \n",
    "    loss = loss_function(pred[data.train_mask], data.y[data.train_mask]) # 损失\n",
    "    correct_count_train = pred.argmax(axis=1)[data.train_mask].eq(data.y[data.train_mask]).sum().item() # epoch正确分类数目\n",
    "    acc_train = correct_count_train / data.train_mask.sum().item() # epoch训练精度\n",
    "    \n",
    "    loss.backward()\n",
    "    optimizer.step()\n",
    "    \n",
    "    if epoch % 10 == 0:\n",
    "        print(\"【EPOCH: 】%s\" % str(epoch + 1))\n",
    "        print('训练损失为：{:.4f}'.format(loss.item()), '训练精度为：{:.4f}'.format(acc_train))\n",
    "\n",
    "print('【Finished Training！】')"
   ]
  },
  {
   "cell_type": "code",
   "execution_count": 8,
   "metadata": {},
   "outputs": [],
   "source": [
    "# 模型验证\n",
    "model.eval()\n",
    "pred = model(data)"
   ]
  },
  {
   "cell_type": "code",
   "execution_count": 9,
   "metadata": {},
   "outputs": [],
   "source": [
    "# 训练集（使用了掩码）\n",
    "correct_count_train = pred.argmax(axis=1)[data.train_mask].eq(data.y[data.train_mask]).sum().item()\n",
    "acc_train = correct_count_train / data.train_mask.sum().item()\n",
    "loss_train = loss_function(pred[data.train_mask], data.y[data.train_mask]).item()"
   ]
  },
  {
   "cell_type": "code",
   "execution_count": 10,
   "metadata": {},
   "outputs": [],
   "source": [
    "# 测试集\n",
    "correct_count_test = pred.argmax(axis=1)[data.test_mask].eq(data.y[data.test_mask]).sum().item()\n",
    "acc_test = correct_count_test / data.test_mask.sum().item()\n",
    "loss_test = loss_function(pred[data.test_mask], data.y[data.test_mask]).item()"
   ]
  },
  {
   "cell_type": "code",
   "execution_count": 11,
   "metadata": {},
   "outputs": [
    {
     "name": "stdout",
     "output_type": "stream",
     "text": [
      "Train Accuracy: 1.0000 Train Loss: 0.0196\n",
      "Test  Accuracy: 0.6410 Test  Loss: 1.1709\n"
     ]
    }
   ],
   "source": [
    "print('Train Accuracy: {:.4f}'.format(acc_train), 'Train Loss: {:.4f}'.format(loss_train))\n",
    "print('Test  Accuracy: {:.4f}'.format(acc_test), 'Test  Loss: {:.4f}'.format(loss_test))"
   ]
  }
 ],
 "metadata": {
  "kernelspec": {
   "display_name": "zrpyg",
   "language": "python",
   "name": "python3"
  },
  "language_info": {
   "codemirror_mode": {
    "name": "ipython",
    "version": 3
   },
   "file_extension": ".py",
   "mimetype": "text/x-python",
   "name": "python",
   "nbconvert_exporter": "python",
   "pygments_lexer": "ipython3",
   "version": "3.8.16"
  },
  "orig_nbformat": 4
 },
 "nbformat": 4,
 "nbformat_minor": 2
}
