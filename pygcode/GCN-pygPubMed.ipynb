{
 "cells": [
  {
   "cell_type": "code",
   "execution_count": 1,
   "metadata": {},
   "outputs": [],
   "source": [
    "import torch\n",
    "import torch.nn.functional as F\n",
    "import torch.nn as nn\n",
    "import torch_geometric.nn as pyg_nn\n",
    "from torch_geometric.datasets import Planetoid"
   ]
  },
  {
   "cell_type": "code",
   "execution_count": 2,
   "metadata": {},
   "outputs": [],
   "source": [
    "# 1.加载Citeseer数据集\n",
    "dataset = Planetoid(root='./data/PubMed', name='PubMed')"
   ]
  },
  {
   "cell_type": "code",
   "execution_count": 3,
   "metadata": {},
   "outputs": [],
   "source": [
    "# 2.定义GCNConv网络\n",
    "class GCN(nn.Module):\n",
    "    def __init__(self, num_node_features, num_classes):\n",
    "        super(GCN, self).__init__()\n",
    "        self.conv1 = pyg_nn.GCNConv(num_node_features, 16)\n",
    "        self.conv2 = pyg_nn.GCNConv(16, num_classes)\n",
    "        \n",
    "    def forward(self, data):\n",
    "        x, edge_index = data.x, data.edge_index\n",
    "        \n",
    "        x = self.conv1(x, edge_index)\n",
    "        x = F.relu(x)\n",
    "        x = F.dropout(x, training=self.training)\n",
    "        x = self.conv2(x, edge_index)\n",
    "        \n",
    "        return F.log_softmax(x, dim=1)"
   ]
  },
  {
   "cell_type": "code",
   "execution_count": 4,
   "metadata": {},
   "outputs": [],
   "source": [
    "device = torch.device('cuda' if torch.cuda.is_available() else 'cpu') # 设备\n",
    "epochs = 100 # 学习轮数\n",
    "lr = 0.003 # 学习率\n",
    "num_node_features = dataset.num_node_features # 每个节点的特征数\n",
    "num_classes = dataset.num_classes # 每个节点的类别数\n",
    "data = dataset[0].to(device) # Cora的一张图"
   ]
  },
  {
   "cell_type": "code",
   "execution_count": 5,
   "metadata": {},
   "outputs": [],
   "source": [
    "# 3.定义模型\n",
    "model = GCN(num_node_features, num_classes).to(device)\n",
    "optimizer = torch.optim.Adam(model.parameters(), lr=lr) # 优化器\n",
    "loss_function = nn.NLLLoss() # 损失函数"
   ]
  },
  {
   "cell_type": "code",
   "execution_count": 6,
   "metadata": {},
   "outputs": [],
   "source": [
    "a=data.train_mask\n",
    "b=data.val_mask\n",
    "c=data.test_mask"
   ]
  },
  {
   "cell_type": "code",
   "execution_count": 7,
   "metadata": {},
   "outputs": [
    {
     "name": "stdout",
     "output_type": "stream",
     "text": [
      "【EPOCH: 】1\n",
      "训练损失为：1.0965 训练精度为：0.3833\n",
      "【EPOCH: 】11\n",
      "训练损失为：1.0488 训练精度为：0.7667\n",
      "【EPOCH: 】21\n",
      "训练损失为：0.9727 训练精度为：0.8167\n",
      "【EPOCH: 】31\n",
      "训练损失为：0.8978 训练精度为：0.9333\n",
      "【EPOCH: 】41\n",
      "训练损失为：0.8011 训练精度为：0.8833\n",
      "【EPOCH: 】51\n",
      "训练损失为：0.7305 训练精度为：0.9167\n",
      "【EPOCH: 】61\n",
      "训练损失为：0.6337 训练精度为：0.9333\n",
      "【EPOCH: 】71\n",
      "训练损失为：0.5691 训练精度为：0.9000\n",
      "【EPOCH: 】81\n",
      "训练损失为：0.4958 训练精度为：0.9667\n",
      "【EPOCH: 】91\n",
      "训练损失为：0.4165 训练精度为：0.9333\n",
      "【Finished Training！】\n"
     ]
    }
   ],
   "source": [
    "# 训练模式\n",
    "model.train()\n",
    "\n",
    "for epoch in range(epochs):\n",
    "    optimizer.zero_grad()\n",
    "    pred = model(data)\n",
    "    \n",
    "    loss = loss_function(pred[data.train_mask], data.y[data.train_mask]) # 损失\n",
    "    correct_count_train = pred.argmax(axis=1)[data.train_mask].eq(data.y[data.train_mask]).sum().item() # epoch正确分类数目\n",
    "    acc_train = correct_count_train / data.train_mask.sum().item() # epoch训练精度\n",
    "    \n",
    "    loss.backward()\n",
    "    optimizer.step()\n",
    "    \n",
    "    if epoch % 10 == 0:\n",
    "        print(\"【EPOCH: 】%s\" % str(epoch + 1))\n",
    "        print('训练损失为：{:.4f}'.format(loss.item()), '训练精度为：{:.4f}'.format(acc_train))\n",
    "\n",
    "print('【Finished Training！】')"
   ]
  },
  {
   "cell_type": "code",
   "execution_count": 8,
   "metadata": {},
   "outputs": [],
   "source": [
    "# 模型验证\n",
    "model.eval()\n",
    "pred = model(data)"
   ]
  },
  {
   "cell_type": "code",
   "execution_count": 9,
   "metadata": {},
   "outputs": [],
   "source": [
    "# 训练集（使用了掩码）\n",
    "correct_count_train = pred.argmax(axis=1)[data.train_mask].eq(data.y[data.train_mask]).sum().item()\n",
    "acc_train = correct_count_train / data.train_mask.sum().item()\n",
    "loss_train = loss_function(pred[data.train_mask], data.y[data.train_mask]).item()"
   ]
  },
  {
   "cell_type": "code",
   "execution_count": 10,
   "metadata": {},
   "outputs": [],
   "source": [
    "# 测试集\n",
    "correct_count_test = pred.argmax(axis=1)[data.test_mask].eq(data.y[data.test_mask]).sum().item()\n",
    "acc_test = correct_count_test / data.test_mask.sum().item()\n",
    "loss_test = loss_function(pred[data.test_mask], data.y[data.test_mask]).item()"
   ]
  },
  {
   "cell_type": "code",
   "execution_count": 11,
   "metadata": {},
   "outputs": [
    {
     "name": "stdout",
     "output_type": "stream",
     "text": [
      "Train Accuracy: 0.9500 Train Loss: 0.3533\n",
      "Test  Accuracy: 0.7690 Test  Loss: 0.6926\n"
     ]
    }
   ],
   "source": [
    "print('Train Accuracy: {:.4f}'.format(acc_train), 'Train Loss: {:.4f}'.format(loss_train))\n",
    "print('Test  Accuracy: {:.4f}'.format(acc_test), 'Test  Loss: {:.4f}'.format(loss_test))"
   ]
  }
 ],
 "metadata": {
  "kernelspec": {
   "display_name": "zrpyg",
   "language": "python",
   "name": "python3"
  },
  "language_info": {
   "codemirror_mode": {
    "name": "ipython",
    "version": 3
   },
   "file_extension": ".py",
   "mimetype": "text/x-python",
   "name": "python",
   "nbconvert_exporter": "python",
   "pygments_lexer": "ipython3",
   "version": "3.8.16"
  },
  "orig_nbformat": 4
 },
 "nbformat": 4,
 "nbformat_minor": 2
}
