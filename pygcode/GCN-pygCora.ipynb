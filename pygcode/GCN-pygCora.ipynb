{
 "cells": [
  {
   "cell_type": "code",
   "execution_count": 15,
   "metadata": {},
   "outputs": [],
   "source": [
    "import torch\n",
    "import torch.nn.functional as F\n",
    "import torch.nn as nn\n",
    "import torch_geometric.nn as pyg_nn\n",
    "from torch_geometric.datasets import Planetoid"
   ]
  },
  {
   "cell_type": "code",
   "execution_count": 16,
   "metadata": {},
   "outputs": [],
   "source": [
    "# 1.加载Cora数据集\n",
    "dataset = Planetoid(root='./data/Cora', name='Cora')"
   ]
  },
  {
   "cell_type": "code",
   "execution_count": 17,
   "metadata": {},
   "outputs": [],
   "source": [
    "# 2.定义GCNConv网络\n",
    "class GCN(nn.Module):\n",
    "    def __init__(self, num_node_features, num_classes):\n",
    "        super(GCN, self).__init__()\n",
    "        self.conv1 = pyg_nn.GCNConv(num_node_features, 16)\n",
    "        self.conv2 = pyg_nn.GCNConv(16, 10)\n",
    "        self.conv3 = pyg_nn.GCNConv(10, num_classes)\n",
    "        \n",
    "    def forward(self, data):\n",
    "        x, edge_index = data.x, data.edge_index\n",
    "        \n",
    "        x = self.conv1(x, edge_index)\n",
    "        x = F.leaky_relu(x)\n",
    "        x = F.dropout(x, training=self.training)\n",
    "        x = self.conv2(x, edge_index)\n",
    "        x = F.relu(x)\n",
    "        x = F.dropout(x, training=self.training)\n",
    "        x = self.conv3(x, edge_index)\n",
    "        \n",
    "        return F.softmax(x, dim=1)"
   ]
  },
  {
   "cell_type": "code",
   "execution_count": 18,
   "metadata": {},
   "outputs": [],
   "source": [
    "device = torch.device('cuda' if torch.cuda.is_available() else 'cpu') # 设备\n",
    "epochs = 100 # 学习轮数\n",
    "lr = 0.003 # 学习率\n",
    "num_node_features = dataset.num_node_features # 每个节点的特征数\n",
    "num_classes = dataset.num_classes # 每个节点的类别数\n",
    "data = dataset[0].to(device) # Cora的一张图"
   ]
  },
  {
   "cell_type": "code",
   "execution_count": 19,
   "metadata": {},
   "outputs": [],
   "source": [
    "# 3.定义模型\n",
    "model = GCN(num_node_features, num_classes).to(device)\n",
    "optimizer = torch.optim.Adam(model.parameters(), lr=lr) # 优化器\n",
    "loss_function = nn.NLLLoss() # 损失函数"
   ]
  },
  {
   "cell_type": "code",
   "execution_count": 31,
   "metadata": {},
   "outputs": [
    {
     "name": "stdout",
     "output_type": "stream",
     "text": [
      "Help on built-in function eq in module torch:\n",
      "\n",
      "eq(...)\n",
      "    eq(input, other, *, out=None) -> Tensor\n",
      "    \n",
      "    Computes element-wise equality\n",
      "    \n",
      "    The second argument can be a number or a tensor whose shape is\n",
      "    :ref:`broadcastable <broadcasting-semantics>` with the first argument.\n",
      "    \n",
      "    Args:\n",
      "        input (Tensor): the tensor to compare\n",
      "        other (Tensor or float): the tensor or value to compare\n",
      "    \n",
      "    Keyword args:\n",
      "        out (Tensor, optional): the output tensor.\n",
      "    \n",
      "    Returns:\n",
      "        A boolean tensor that is True where :attr:`input` is equal to :attr:`other` and False elsewhere\n",
      "    \n",
      "    Example::\n",
      "    \n",
      "        >>> torch.eq(torch.tensor([[1, 2], [3, 4]]), torch.tensor([[1, 1], [4, 4]]))\n",
      "        tensor([[ True, False],\n",
      "                [False, True]])\n",
      "\n"
     ]
    }
   ],
   "source": [
    "help(torch.eq)"
   ]
  },
  {
   "cell_type": "code",
   "execution_count": 29,
   "metadata": {},
   "outputs": [
    {
     "name": "stdout",
     "output_type": "stream",
     "text": [
      "<built-in method argmax of Tensor object at 0x000001B567F23C20>\n"
     ]
    }
   ],
   "source": [
    "a = torch.randn(4, 4)\n",
    "print(a.argmax(axis=0))"
   ]
  },
  {
   "cell_type": "code",
   "execution_count": 21,
   "metadata": {},
   "outputs": [
    {
     "name": "stdout",
     "output_type": "stream",
     "text": [
      "【EPOCH: 】10\n",
      "训练损失为：-0.1799 训练精度为：0.5214\n",
      "【EPOCH: 】20\n",
      "训练损失为：-0.2918 训练精度为：0.6643\n",
      "【EPOCH: 】30\n",
      "训练损失为：-0.4045 训练精度为：0.6857\n",
      "【EPOCH: 】40\n",
      "训练损失为：-0.5380 训练精度为：0.7571\n",
      "【EPOCH: 】50\n",
      "训练损失为：-0.6459 训练精度为：0.8214\n",
      "【EPOCH: 】60\n",
      "训练损失为：-0.7067 训练精度为：0.8286\n",
      "【EPOCH: 】70\n",
      "训练损失为：-0.7622 训练精度为：0.8357\n",
      "【EPOCH: 】80\n",
      "训练损失为：-0.7893 训练精度为：0.8857\n",
      "【EPOCH: 】90\n",
      "训练损失为：-0.8537 训练精度为：0.9071\n",
      "【EPOCH: 】100\n",
      "训练损失为：-0.8472 训练精度为：0.8857\n",
      "【Finished Training！】\n"
     ]
    }
   ],
   "source": [
    "# 训练模式\n",
    "model.train()\n",
    "\n",
    "for epoch in range(epochs):\n",
    "    optimizer.zero_grad()\n",
    "    pred = model(data)\n",
    "    \n",
    "    loss = loss_function(pred[data.train_mask], data.y[data.train_mask]) # 损失\n",
    "    correct_count_train = pred.argmax(axis=1)[data.train_mask].eq(data.y[data.train_mask]).sum().item() # epoch正确分类数目\n",
    "    acc_train = correct_count_train / data.train_mask.sum().item() # epoch训练精度\n",
    "    \n",
    "    loss.backward()\n",
    "    optimizer.step()\n",
    "    \n",
    "    if (epoch + 1) % 10 == 0:\n",
    "        print(\"【EPOCH: 】%s\" % str(epoch + 1))\n",
    "        print('训练损失为：{:.4f}'.format(loss.item()), '训练精度为：{:.4f}'.format(acc_train))\n",
    "\n",
    "print('【Finished Training！】')"
   ]
  },
  {
   "cell_type": "code",
   "execution_count": 22,
   "metadata": {},
   "outputs": [],
   "source": [
    "# 模型验证\n",
    "model.eval()\n",
    "pred = model(data)"
   ]
  },
  {
   "cell_type": "code",
   "execution_count": 23,
   "metadata": {},
   "outputs": [],
   "source": [
    "# 训练集（使用了掩码）\n",
    "correct_count_train = pred.argmax(axis=1)[data.train_mask].eq(data.y[data.train_mask]).sum().item()\n",
    "acc_train = correct_count_train / data.train_mask.sum().item()\n",
    "loss_train = loss_function(pred[data.train_mask], data.y[data.train_mask]).item()"
   ]
  },
  {
   "cell_type": "code",
   "execution_count": 24,
   "metadata": {},
   "outputs": [],
   "source": [
    "# 测试集\n",
    "correct_count_test = pred.argmax(axis=1)[data.test_mask].eq(data.y[data.test_mask]).sum().item()\n",
    "acc_test = correct_count_test / data.test_mask.sum().item()\n",
    "loss_test = loss_function(pred[data.test_mask], data.y[data.test_mask]).item()"
   ]
  },
  {
   "cell_type": "code",
   "execution_count": 25,
   "metadata": {},
   "outputs": [
    {
     "name": "stdout",
     "output_type": "stream",
     "text": [
      "Train Accuracy: 0.9786 Train Loss: -0.9654\n",
      "Test  Accuracy: 0.7700 Test  Loss: -0.7208\n"
     ]
    }
   ],
   "source": [
    "print('Train Accuracy: {:.4f}'.format(acc_train), 'Train Loss: {:.4f}'.format(loss_train))\n",
    "print('Test  Accuracy: {:.4f}'.format(acc_test), 'Test  Loss: {:.4f}'.format(loss_test))"
   ]
  }
 ],
 "metadata": {
  "kernelspec": {
   "display_name": "zrpyg",
   "language": "python",
   "name": "python3"
  },
  "language_info": {
   "codemirror_mode": {
    "name": "ipython",
    "version": 3
   },
   "file_extension": ".py",
   "mimetype": "text/x-python",
   "name": "python",
   "nbconvert_exporter": "python",
   "pygments_lexer": "ipython3",
   "version": "3.8.16"
  },
  "orig_nbformat": 4
 },
 "nbformat": 4,
 "nbformat_minor": 2
}
